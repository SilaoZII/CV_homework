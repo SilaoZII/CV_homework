{
 "cells": [
  {
   "cell_type": "code",
   "execution_count": 2,
   "metadata": {},
   "outputs": [
    {
     "name": "stderr",
     "output_type": "stream",
     "text": [
      "[WARNING] ME(24416:39192,MainProcess):2024-05-01-01:14:25.348.840 [mindspore\\dataset\\core\\validator_helpers.py:744] 'Resize' from mindspore.dataset.vision.c_transforms is deprecated from version 1.8 and will be removed in a future version. Use 'Resize' from mindspore.dataset.vision instead.\n",
      "[WARNING] ME(24416:39192,MainProcess):2024-05-01-01:14:25.349.837 [mindspore\\dataset\\core\\validator_helpers.py:744] 'Rescale' from mindspore.dataset.vision.c_transforms is deprecated from version 1.8 and will be removed in a future version. Use 'Rescale' from mindspore.dataset.vision instead.\n",
      "[WARNING] ME(24416:39192,MainProcess):2024-05-01-01:14:25.350.835 [mindspore\\dataset\\core\\validator_helpers.py:744] 'Rescale' from mindspore.dataset.vision.c_transforms is deprecated from version 1.8 and will be removed in a future version. Use 'Rescale' from mindspore.dataset.vision instead.\n",
      "[WARNING] ME(24416:39192,MainProcess):2024-05-01-01:14:25.352.828 [mindspore\\dataset\\core\\validator_helpers.py:744] 'HWC2CHW' from mindspore.dataset.vision.c_transforms is deprecated from version 1.8 and will be removed in a future version. Use 'HWC2CHW' from mindspore.dataset.vision instead.\n",
      "[WARNING] ME(24416:39192,MainProcess):2024-05-01-01:14:25.353.855 [mindspore\\dataset\\core\\validator_helpers.py:744] 'Resize' from mindspore.dataset.vision.c_transforms is deprecated from version 1.8 and will be removed in a future version. Use 'Resize' from mindspore.dataset.vision instead.\n",
      "[WARNING] ME(24416:39192,MainProcess):2024-05-01-01:14:25.353.855 [mindspore\\dataset\\core\\validator_helpers.py:744] 'Rescale' from mindspore.dataset.vision.c_transforms is deprecated from version 1.8 and will be removed in a future version. Use 'Rescale' from mindspore.dataset.vision instead.\n",
      "[WARNING] ME(24416:39192,MainProcess):2024-05-01-01:14:25.354.852 [mindspore\\dataset\\core\\validator_helpers.py:744] 'Rescale' from mindspore.dataset.vision.c_transforms is deprecated from version 1.8 and will be removed in a future version. Use 'Rescale' from mindspore.dataset.vision instead.\n",
      "[WARNING] ME(24416:39192,MainProcess):2024-05-01-01:14:25.355.822 [mindspore\\dataset\\core\\validator_helpers.py:744] 'HWC2CHW' from mindspore.dataset.vision.c_transforms is deprecated from version 1.8 and will be removed in a future version. Use 'HWC2CHW' from mindspore.dataset.vision instead.\n"
     ]
    }
   ],
   "source": [
    "from mindvision.dataset import Mnist\n",
    "\n",
    "# 下载并处理MNIST数据集\n",
    "download_train = Mnist(path=\"./mnist\", split=\"train\", batch_size=32, repeat_num=1, shuffle=True, resize=32, download=True)\n",
    "download_eval = Mnist(path=\"./mnist\", split=\"test\", batch_size=32, resize=32, download=True)\n",
    "\n",
    "dataset_train = download_train.run()\n",
    "dataset_eval = download_eval.run()\n"
   ]
  },
  {
   "cell_type": "code",
   "execution_count": 4,
   "metadata": {},
   "outputs": [],
   "source": [
    "import mindspore.nn as nn\n",
    "\n",
    "class LeNet5(nn.Cell):\n",
    "    def __init__(self, num_class=10, num_channel=1):\n",
    "        super(LeNet5, self).__init__()\n",
    "        # 卷积层，输入的通道数为num_channel,输出的通道数为6,卷积核大小为5*5\n",
    "        self.conv1 = nn.Conv2d(num_channel, 6, 5, pad_mode='valid')\n",
    "        # 卷积层，输入的通道数为6，输出的通道数为16,卷积核大小为5*5\n",
    "        self.conv2 = nn.Conv2d(6, 16, 5, pad_mode='valid')\n",
    "        # 全连接层，输入个数为16*5*5，输出个数为120\n",
    "        self.fc1 = nn.Dense(16 * 5 * 5, 120)\n",
    "        # 全连接层，输入个数为120，输出个数为84\n",
    "        self.fc2 = nn.Dense(120, 84)\n",
    "        # 全连接层，输入个数为84，分类的个数为num_class\n",
    "        self.fc3 = nn.Dense(84, num_class)\n",
    "        # ReLU激活函数\n",
    "        self.relu = nn.ReLU()\n",
    "        # 池化层\n",
    "        self.max_pool2d = nn.MaxPool2d(kernel_size=2, stride=2)\n",
    "        # 多维数组展平为一维数组\n",
    "        self.flatten = nn.Flatten()\n",
    "\n",
    "    def construct(self, x):\n",
    "        # 使用定义好的运算构建前向网络\n",
    "        x = self.conv1(x)\n",
    "        x = self.relu(x)\n",
    "        x = self.max_pool2d(x)\n",
    "        x = self.conv2(x)\n",
    "        x = self.relu(x)\n",
    "        x = self.max_pool2d(x)\n",
    "        x = self.flatten(x)\n",
    "        x = self.fc1(x)\n",
    "        x = self.relu(x)\n",
    "        x = self.fc2(x)\n",
    "        x = self.relu(x)\n",
    "        x = self.fc3(x)\n",
    "        return x"
   ]
  },
  {
   "cell_type": "code",
   "execution_count": 6,
   "metadata": {},
   "outputs": [],
   "source": [
    "import mindspore.nn as nn\n",
    "\n",
    "# 应用LeNet-5\n",
    "network = LeNet5()\n",
    "\n",
    "# 定义损失函数\n",
    "net_loss = nn.SoftmaxCrossEntropyWithLogits(sparse=True, reduction='mean')\n",
    "\n",
    "# 定义优化器函数\n",
    "net_opt = nn.Momentum(network.trainable_params(), learning_rate=0.01, momentum=0.9)\n"
   ]
  },
  {
   "cell_type": "code",
   "execution_count": 7,
   "metadata": {},
   "outputs": [],
   "source": [
    "from mindspore.train.callback import ModelCheckpoint, CheckpointConfig\n",
    "\n",
    "# 设置模型保存参数，模型训练保存参数的step为1875\n",
    "config_ck = CheckpointConfig(save_checkpoint_steps=1875, keep_checkpoint_max=50)\n",
    "\n",
    "# 应用模型保存参数\n",
    "ckpoint = ModelCheckpoint(prefix=\"lenet\", directory=\"./lenet\", config=config_ck)\n"
   ]
  },
  {
   "cell_type": "code",
   "execution_count": 48,
   "metadata": {},
   "outputs": [
    {
     "name": "stdout",
     "output_type": "stream",
     "text": [
      "Epoch:[  0/ 50], step:[ 1875/ 1875], loss:[0.027/0.425], time:19.948 ms, lr:0.01000\n",
      "Epoch time: 25574.004 ms, per step time: 13.639 ms, avg loss: 0.425\n",
      "Epoch:[  1/ 50], step:[ 1875/ 1875], loss:[0.087/0.063], time:20.944 ms, lr:0.01000\n",
      "Epoch time: 25301.199 ms, per step time: 13.494 ms, avg loss: 0.063\n",
      "Epoch:[  2/ 50], step:[ 1875/ 1875], loss:[0.006/0.043], time:18.949 ms, lr:0.01000\n",
      "Epoch time: 24885.799 ms, per step time: 13.272 ms, avg loss: 0.043\n",
      "Epoch:[  3/ 50], step:[ 1875/ 1875], loss:[0.010/0.034], time:19.946 ms, lr:0.01000\n",
      "Epoch time: 24677.880 ms, per step time: 13.162 ms, avg loss: 0.034\n",
      "Epoch:[  4/ 50], step:[ 1875/ 1875], loss:[0.000/0.028], time:18.949 ms, lr:0.01000\n",
      "Epoch time: 24642.309 ms, per step time: 13.143 ms, avg loss: 0.028\n",
      "Epoch:[  5/ 50], step:[ 1875/ 1875], loss:[0.001/0.024], time:18.950 ms, lr:0.01000\n",
      "Epoch time: 24859.634 ms, per step time: 13.258 ms, avg loss: 0.024\n",
      "Epoch:[  6/ 50], step:[ 1875/ 1875], loss:[0.024/0.021], time:19.946 ms, lr:0.01000\n",
      "Epoch time: 24796.515 ms, per step time: 13.225 ms, avg loss: 0.021\n",
      "Epoch:[  7/ 50], step:[ 1875/ 1875], loss:[0.128/0.018], time:18.950 ms, lr:0.01000\n",
      "Epoch time: 24902.781 ms, per step time: 13.281 ms, avg loss: 0.018\n",
      "Epoch:[  8/ 50], step:[ 1875/ 1875], loss:[0.000/0.014], time:21.942 ms, lr:0.01000\n",
      "Epoch time: 25307.834 ms, per step time: 13.498 ms, avg loss: 0.014\n",
      "Epoch:[  9/ 50], step:[ 1875/ 1875], loss:[0.001/0.012], time:19.946 ms, lr:0.01000\n",
      "Epoch time: 24872.862 ms, per step time: 13.266 ms, avg loss: 0.012\n",
      "Epoch:[ 10/ 50], step:[ 1875/ 1875], loss:[0.051/0.011], time:19.947 ms, lr:0.01000\n",
      "Epoch time: 24925.543 ms, per step time: 13.294 ms, avg loss: 0.011\n",
      "Epoch:[ 11/ 50], step:[ 1875/ 1875], loss:[0.003/0.013], time:22.938 ms, lr:0.01000\n",
      "Epoch time: 24878.603 ms, per step time: 13.269 ms, avg loss: 0.013\n",
      "Epoch:[ 12/ 50], step:[ 1875/ 1875], loss:[0.000/0.012], time:20.944 ms, lr:0.01000\n",
      "Epoch time: 24894.273 ms, per step time: 13.277 ms, avg loss: 0.012\n",
      "Epoch:[ 13/ 50], step:[ 1875/ 1875], loss:[0.048/0.010], time:23.937 ms, lr:0.01000\n",
      "Epoch time: 25085.700 ms, per step time: 13.379 ms, avg loss: 0.010\n",
      "Epoch:[ 14/ 50], step:[ 1875/ 1875], loss:[0.000/0.009], time:20.945 ms, lr:0.01000\n",
      "Epoch time: 24974.320 ms, per step time: 13.320 ms, avg loss: 0.009\n",
      "Epoch:[ 15/ 50], step:[ 1875/ 1875], loss:[0.000/0.010], time:18.950 ms, lr:0.01000\n",
      "Epoch time: 24925.878 ms, per step time: 13.294 ms, avg loss: 0.010\n",
      "Epoch:[ 16/ 50], step:[ 1875/ 1875], loss:[0.023/0.009], time:27.926 ms, lr:0.01000\n",
      "Epoch time: 25850.836 ms, per step time: 13.787 ms, avg loss: 0.009\n",
      "Epoch:[ 17/ 50], step:[ 1875/ 1875], loss:[0.000/0.007], time:18.952 ms, lr:0.01000\n",
      "Epoch time: 25892.081 ms, per step time: 13.809 ms, avg loss: 0.007\n",
      "Epoch:[ 18/ 50], step:[ 1875/ 1875], loss:[0.000/0.005], time:19.947 ms, lr:0.01000\n",
      "Epoch time: 25331.868 ms, per step time: 13.510 ms, avg loss: 0.005\n",
      "Epoch:[ 19/ 50], step:[ 1875/ 1875], loss:[0.001/0.008], time:20.326 ms, lr:0.01000\n",
      "Epoch time: 25084.219 ms, per step time: 13.378 ms, avg loss: 0.008\n",
      "Epoch:[ 20/ 50], step:[ 1875/ 1875], loss:[0.000/0.007], time:19.946 ms, lr:0.01000\n",
      "Epoch time: 25092.626 ms, per step time: 13.383 ms, avg loss: 0.007\n",
      "Epoch:[ 21/ 50], step:[ 1875/ 1875], loss:[0.000/0.007], time:19.946 ms, lr:0.01000\n",
      "Epoch time: 25272.189 ms, per step time: 13.479 ms, avg loss: 0.007\n",
      "Epoch:[ 22/ 50], step:[ 1875/ 1875], loss:[0.000/0.005], time:20.945 ms, lr:0.01000\n",
      "Epoch time: 25153.416 ms, per step time: 13.415 ms, avg loss: 0.005\n",
      "Epoch:[ 23/ 50], step:[ 1875/ 1875], loss:[0.000/0.002], time:20.944 ms, lr:0.01000\n",
      "Epoch time: 25409.052 ms, per step time: 13.551 ms, avg loss: 0.002\n",
      "Epoch:[ 24/ 50], step:[ 1875/ 1875], loss:[0.000/0.001], time:20.944 ms, lr:0.01000\n",
      "Epoch time: 25140.752 ms, per step time: 13.408 ms, avg loss: 0.001\n",
      "Epoch:[ 25/ 50], step:[ 1875/ 1875], loss:[0.000/0.003], time:22.938 ms, lr:0.01000\n",
      "Epoch time: 25199.212 ms, per step time: 13.440 ms, avg loss: 0.003\n",
      "Epoch:[ 26/ 50], step:[ 1875/ 1875], loss:[0.000/0.003], time:21.942 ms, lr:0.01000\n",
      "Epoch time: 25405.126 ms, per step time: 13.549 ms, avg loss: 0.003\n",
      "Epoch:[ 27/ 50], step:[ 1875/ 1875], loss:[0.000/0.003], time:26.929 ms, lr:0.01000\n",
      "Epoch time: 25293.379 ms, per step time: 13.490 ms, avg loss: 0.003\n",
      "Epoch:[ 28/ 50], step:[ 1875/ 1875], loss:[0.000/0.008], time:20.945 ms, lr:0.01000\n",
      "Epoch time: 26435.020 ms, per step time: 14.099 ms, avg loss: 0.008\n",
      "Epoch:[ 29/ 50], step:[ 1875/ 1875], loss:[0.000/0.006], time:19.946 ms, lr:0.01000\n",
      "Epoch time: 25899.056 ms, per step time: 13.813 ms, avg loss: 0.006\n",
      "Epoch:[ 30/ 50], step:[ 1875/ 1875], loss:[0.005/0.004], time:19.947 ms, lr:0.01000\n",
      "Epoch time: 25932.367 ms, per step time: 13.831 ms, avg loss: 0.004\n",
      "Epoch:[ 31/ 50], step:[ 1875/ 1875], loss:[0.000/0.005], time:30.919 ms, lr:0.01000\n",
      "Epoch time: 26496.249 ms, per step time: 14.131 ms, avg loss: 0.005\n",
      "Epoch:[ 32/ 50], step:[ 1875/ 1875], loss:[0.000/0.007], time:20.944 ms, lr:0.01000\n",
      "Epoch time: 25984.162 ms, per step time: 13.858 ms, avg loss: 0.007\n",
      "Epoch:[ 33/ 50], step:[ 1875/ 1875], loss:[0.004/0.004], time:22.940 ms, lr:0.01000\n",
      "Epoch time: 25698.396 ms, per step time: 13.706 ms, avg loss: 0.004\n",
      "Epoch:[ 34/ 50], step:[ 1875/ 1875], loss:[0.000/0.006], time:33.775 ms, lr:0.01000\n",
      "Epoch time: 39468.155 ms, per step time: 21.050 ms, avg loss: 0.006\n",
      "Epoch:[ 35/ 50], step:[ 1875/ 1875], loss:[0.000/0.007], time:19.947 ms, lr:0.01000\n",
      "Epoch time: 26247.662 ms, per step time: 13.999 ms, avg loss: 0.007\n",
      "Epoch:[ 36/ 50], step:[ 1875/ 1875], loss:[0.000/0.002], time:19.948 ms, lr:0.01000\n",
      "Epoch time: 26107.357 ms, per step time: 13.924 ms, avg loss: 0.002\n",
      "Epoch:[ 37/ 50], step:[ 1875/ 1875], loss:[0.000/0.002], time:25.931 ms, lr:0.01000\n",
      "Epoch time: 26019.160 ms, per step time: 13.877 ms, avg loss: 0.002\n",
      "Epoch:[ 38/ 50], step:[ 1875/ 1875], loss:[0.000/0.000], time:21.940 ms, lr:0.01000\n",
      "Epoch time: 26136.461 ms, per step time: 13.939 ms, avg loss: 0.000\n",
      "Epoch:[ 39/ 50], step:[ 1875/ 1875], loss:[0.007/0.000], time:35.903 ms, lr:0.01000\n",
      "Epoch time: 25993.170 ms, per step time: 13.863 ms, avg loss: 0.000\n",
      "Epoch:[ 40/ 50], step:[ 1875/ 1875], loss:[0.000/0.000], time:20.943 ms, lr:0.01000\n",
      "Epoch time: 26443.588 ms, per step time: 14.103 ms, avg loss: 0.000\n",
      "Epoch:[ 41/ 50], step:[ 1875/ 1875], loss:[0.000/0.000], time:20.944 ms, lr:0.01000\n",
      "Epoch time: 26237.862 ms, per step time: 13.994 ms, avg loss: 0.000\n",
      "Epoch:[ 42/ 50], step:[ 1875/ 1875], loss:[0.000/0.000], time:25.930 ms, lr:0.01000\n",
      "Epoch time: 26434.515 ms, per step time: 14.098 ms, avg loss: 0.000\n",
      "Epoch:[ 43/ 50], step:[ 1875/ 1875], loss:[0.000/0.000], time:20.944 ms, lr:0.01000\n",
      "Epoch time: 26429.965 ms, per step time: 14.096 ms, avg loss: 0.000\n",
      "Epoch:[ 44/ 50], step:[ 1875/ 1875], loss:[0.000/0.000], time:20.945 ms, lr:0.01000\n",
      "Epoch time: 25994.517 ms, per step time: 13.864 ms, avg loss: 0.000\n",
      "Epoch:[ 45/ 50], step:[ 1875/ 1875], loss:[0.000/0.000], time:21.942 ms, lr:0.01000\n",
      "Epoch time: 26305.650 ms, per step time: 14.030 ms, avg loss: 0.000\n",
      "Epoch:[ 46/ 50], step:[ 1875/ 1875], loss:[0.000/0.000], time:21.940 ms, lr:0.01000\n",
      "Epoch time: 26202.723 ms, per step time: 13.975 ms, avg loss: 0.000\n",
      "Epoch:[ 47/ 50], step:[ 1875/ 1875], loss:[0.000/0.000], time:23.936 ms, lr:0.01000\n",
      "Epoch time: 25748.947 ms, per step time: 13.733 ms, avg loss: 0.000\n",
      "Epoch:[ 48/ 50], step:[ 1875/ 1875], loss:[0.000/0.000], time:21.947 ms, lr:0.01000\n",
      "Epoch time: 25990.649 ms, per step time: 13.862 ms, avg loss: 0.000\n",
      "Epoch:[ 49/ 50], step:[ 1875/ 1875], loss:[0.000/0.000], time:20.945 ms, lr:0.01000\n",
      "Epoch time: 26433.041 ms, per step time: 14.098 ms, avg loss: 0.000\n"
     ]
    }
   ],
   "source": [
    "from mindvision.engine.callback import LossMonitor\n",
    "from mindspore.train import Model\n",
    "\n",
    "# 初始化模型参数\n",
    "model = Model(network, loss_fn=net_loss, optimizer=net_opt, metrics={'accuracy'})\n",
    "\n",
    "# 训练网络模型，并保存为lenet-1_1875.ckpt文件\n",
    "model.train(50, dataset_train, callbacks=[ckpoint, LossMonitor(0.01, 1875)])\n"
   ]
  },
  {
   "cell_type": "code",
   "execution_count": 10,
   "metadata": {},
   "outputs": [
    {
     "name": "stderr",
     "output_type": "stream",
     "text": [
      "[WARNING] ME(24416:39192,MainProcess):2024-05-01-01:17:06.771.992 [mindspore\\train\\serialization.py:1469] For 'load_param_into_net', remove parameter prefix name: backbone., continue to load.\n",
      "[WARNING] ME(24416:39192,MainProcess):2024-05-01-01:17:07.410.285 [mindspore\\dataset\\core\\validator_helpers.py:744] 'Resize' from mindspore.dataset.vision.c_transforms is deprecated from version 1.8 and will be removed in a future version. Use 'Resize' from mindspore.dataset.vision instead.\n",
      "[WARNING] ME(24416:39192,MainProcess):2024-05-01-01:17:07.411.282 [mindspore\\dataset\\core\\validator_helpers.py:744] 'Rescale' from mindspore.dataset.vision.c_transforms is deprecated from version 1.8 and will be removed in a future version. Use 'Rescale' from mindspore.dataset.vision instead.\n",
      "[WARNING] ME(24416:39192,MainProcess):2024-05-01-01:17:07.411.282 [mindspore\\dataset\\core\\validator_helpers.py:744] 'Rescale' from mindspore.dataset.vision.c_transforms is deprecated from version 1.8 and will be removed in a future version. Use 'Rescale' from mindspore.dataset.vision instead.\n",
      "[WARNING] ME(24416:39192,MainProcess):2024-05-01-01:17:07.412.278 [mindspore\\dataset\\core\\validator_helpers.py:744] 'HWC2CHW' from mindspore.dataset.vision.c_transforms is deprecated from version 1.8 and will be removed in a future version. Use 'HWC2CHW' from mindspore.dataset.vision instead.\n"
     ]
    },
    {
     "name": "stdout",
     "output_type": "stream",
     "text": [
      "{'accuracy': 0.9895833333333334}\n"
     ]
    }
   ],
   "source": [
    "from mindspore import load_checkpoint, load_param_into_net\n",
    "from mindvision.classification.dataset import Mnist\n",
    "from mindspore.train import Model\n",
    "\n",
    "# 将模型参数存入parameter的字典中，这里加载的是上面训练过程中保存的模型参数\n",
    "param_dict = load_checkpoint(\"./lenet/lenet-15_1875.ckpt\")\n",
    "\n",
    "# 重新定义一个LeNet神经网络\n",
    "net = LeNet5(10, 1)\n",
    "\n",
    "# 将参数加载到网络中\n",
    "load_param_into_net(net, param_dict)\n",
    "\n",
    "# 重新定义优化器函数\n",
    "net_opt = nn.Momentum(net.trainable_params(), learning_rate=0.01, momentum=0.9)\n",
    "model = Model(net, loss_fn=net_loss, optimizer=net_opt, metrics={\"accuracy\"})\n",
    "\n",
    "# 调用eval()进行推理\n",
    "download_eval = Mnist(path=\"./mnist\", split=\"test\", batch_size=32, resize=32, download=True)\n",
    "dataset_eval = download_eval.run()\n",
    "acc = model.eval(dataset_eval)\n",
    "\n",
    "print(\"{}\".format(acc))\n"
   ]
  },
  {
   "cell_type": "code",
   "execution_count": 11,
   "metadata": {},
   "outputs": [
    {
     "name": "stderr",
     "output_type": "stream",
     "text": [
      "[WARNING] ME(24416:39192,MainProcess):2024-05-01-01:18:42.265.857 [mindspore\\dataset\\core\\validator_helpers.py:744] 'Resize' from mindspore.dataset.vision.c_transforms is deprecated from version 1.8 and will be removed in a future version. Use 'Resize' from mindspore.dataset.vision instead.\n",
      "[WARNING] ME(24416:39192,MainProcess):2024-05-01-01:18:42.266.812 [mindspore\\dataset\\core\\validator_helpers.py:744] 'Rescale' from mindspore.dataset.vision.c_transforms is deprecated from version 1.8 and will be removed in a future version. Use 'Rescale' from mindspore.dataset.vision instead.\n",
      "[WARNING] ME(24416:39192,MainProcess):2024-05-01-01:18:42.267.808 [mindspore\\dataset\\core\\validator_helpers.py:744] 'Rescale' from mindspore.dataset.vision.c_transforms is deprecated from version 1.8 and will be removed in a future version. Use 'Rescale' from mindspore.dataset.vision instead.\n",
      "[WARNING] ME(24416:39192,MainProcess):2024-05-01-01:18:42.268.805 [mindspore\\dataset\\core\\validator_helpers.py:744] 'HWC2CHW' from mindspore.dataset.vision.c_transforms is deprecated from version 1.8 and will be removed in a future version. Use 'HWC2CHW' from mindspore.dataset.vision instead.\n"
     ]
    },
    {
     "data": {
      "image/png": "[encoded data removed]",
      "text/plain": [
       "<Figure size 640x480 with 6 Axes>"
      ]
     },
     "metadata": {},
     "output_type": "display_data"
    },
    {
     "name": "stdout",
     "output_type": "stream",
     "text": [
      "Predicted: \"[9 2 7 8 7 1]\", Actual: \"[9 2 7 8 7 1]\"\n"
     ]
    }
   ],
   "source": [
    "import numpy as np\n",
    "from mindspore import Tensor\n",
    "import matplotlib.pyplot as plt\n",
    "\n",
    "mnist = Mnist(\"./mnist\", split=\"train\", batch_size=6, resize=32)\n",
    "dataset_infer = mnist.run()\n",
    "ds_test = dataset_infer.create_dict_iterator()\n",
    "data = next(ds_test)\n",
    "images = data[\"image\"].asnumpy()\n",
    "labels = data[\"label\"].asnumpy()\n",
    "\n",
    "plt.figure()\n",
    "for i in range(1, 7):\n",
    "    plt.subplot(2, 3, i)\n",
    "    plt.imshow(images[i-1][0], interpolation=\"None\", cmap=\"gray\")\n",
    "    plt.axis('off')\n",
    "plt.show()\n",
    "\n",
    "# 使用函数model.predict预测image对应分类\n",
    "output = model.predict(Tensor(data['image']))\n",
    "predicted = np.argmax(output.asnumpy(), axis=1)\n",
    "\n",
    "# 输出预测分类与实际分类\n",
    "print(f'Predicted: \"{predicted}\", Actual: \"{labels}\"')\n"
   ]
  }
 ],
 "metadata": {
  "kernelspec": {
   "display_name": "Mindspore-cpu",
   "language": "python",
   "name": "python3"
  },
  "language_info": {
   "codemirror_mode": {
    "name": "ipython",
    "version": 3
   },
   "file_extension": ".py",
   "mimetype": "text/x-python",
   "name": "python",
   "nbconvert_exporter": "python",
   "pygments_lexer": "ipython3",
   "version": "3.9.19"
  }
 },
 "nbformat": 4,
 "nbformat_minor": 2
}
